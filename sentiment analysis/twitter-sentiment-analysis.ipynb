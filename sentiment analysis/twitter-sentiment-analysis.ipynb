{
 "cells": [
  {
   "cell_type": "code",
   "execution_count": 1,
   "id": "d6879a5d",
   "metadata": {
    "_cell_guid": "b1076dfc-b9ad-4769-8c92-a6c4dae69d19",
    "_uuid": "8f2839f25d086af736a60e9eeb907d3b93b6e0e5",
    "execution": {
     "iopub.execute_input": "2025-08-19T23:31:36.877277Z",
     "iopub.status.busy": "2025-08-19T23:31:36.876998Z",
     "iopub.status.idle": "2025-08-19T23:31:38.967701Z",
     "shell.execute_reply": "2025-08-19T23:31:38.966828Z"
    },
    "papermill": {
     "duration": 2.100138,
     "end_time": "2025-08-19T23:31:38.969019",
     "exception": false,
     "start_time": "2025-08-19T23:31:36.868881",
     "status": "completed"
    },
    "tags": []
   },
   "outputs": [
    {
     "name": "stdout",
     "output_type": "stream",
     "text": [
      "/kaggle/input/twitter-entity-sentiment-analysis/twitter_validation.csv\n",
      "/kaggle/input/twitter-entity-sentiment-analysis/twitter_training.csv\n"
     ]
    }
   ],
   "source": [
    "# This Python 3 environment comes with many helpful analytics libraries installed\n",
    "# It is defined by the kaggle/python Docker image: https://github.com/kaggle/docker-python\n",
    "# For example, here's several helpful packages to load\n",
    "\n",
    "import numpy as np # linear algebra\n",
    "import pandas as pd # data processing, CSV file I/O (e.g. pd.read_csv)\n",
    "\n",
    "# Input data files are available in the read-only \"../input/\" directory\n",
    "# For example, running this (by clicking run or pressing Shift+Enter) will list all files under the input directory\n",
    "\n",
    "import os\n",
    "for dirname, _, filenames in os.walk('/kaggle/input'):\n",
    "    for filename in filenames:\n",
    "        print(os.path.join(dirname, filename))\n",
    "\n",
    "# You can write up to 20GB to the current directory (/kaggle/working/) that gets preserved as output when you create a version using \"Save & Run All\" \n",
    "# You can also write temporary files to /kaggle/temp/, but they won't be saved outside of the current session"
   ]
  },
  {
   "cell_type": "code",
   "execution_count": 2,
   "id": "f71efa78",
   "metadata": {
    "execution": {
     "iopub.execute_input": "2025-08-19T23:31:38.981869Z",
     "iopub.status.busy": "2025-08-19T23:31:38.981234Z",
     "iopub.status.idle": "2025-08-19T23:32:03.895539Z",
     "shell.execute_reply": "2025-08-19T23:32:03.894850Z"
    },
    "papermill": {
     "duration": 24.921918,
     "end_time": "2025-08-19T23:32:03.897027",
     "exception": false,
     "start_time": "2025-08-19T23:31:38.975109",
     "status": "completed"
    },
    "tags": []
   },
   "outputs": [
    {
     "name": "stderr",
     "output_type": "stream",
     "text": [
      "2025-08-19 23:31:46.428626: E external/local_xla/xla/stream_executor/cuda/cuda_fft.cc:477] Unable to register cuFFT factory: Attempting to register factory for plugin cuFFT when one has already been registered\n",
      "WARNING: All log messages before absl::InitializeLog() is called are written to STDERR\n",
      "E0000 00:00:1755646306.790128      19 cuda_dnn.cc:8310] Unable to register cuDNN factory: Attempting to register factory for plugin cuDNN when one has already been registered\n",
      "E0000 00:00:1755646306.893704      19 cuda_blas.cc:1418] Unable to register cuBLAS factory: Attempting to register factory for plugin cuBLAS when one has already been registered\n"
     ]
    }
   ],
   "source": [
    "\n",
    "import pandas as pd \n",
    "import numpy as np \n",
    "import matplotlib.pyplot as plt \n",
    "import re \n",
    "import seaborn as sns \n",
    "import nltk \n",
    "import string\n",
    "from nltk.corpus import stopwords\n",
    "from nltk.stem import PorterStemmer\n",
    "\n",
    "\n",
    "import tensorflow as tf \n",
    "from tensorflow.keras import layers, models\n",
    "from tensorflow.keras.models import Sequential\n",
    "from tensorflow.keras.layers import Embedding, Dense, Dropout, LSTM, GlobalMaxPooling1D\n",
    "from tensorflow.keras.preprocessing.text import Tokenizer \n",
    "from tensorflow.keras.callbacks import ModelCheckpoint\n",
    "from tensorflow.keras.preprocessing.sequence import pad_sequences\n",
    "from tensorflow.keras.utils import to_categorical\n",
    "from sklearn.preprocessing import LabelEncoder\n",
    "from tensorflow.keras.optimizers import Adam\n",
    "from sklearn.model_selection import train_test_split\n",
    "from sklearn.metrics import confusion_matrix, classification_report\n",
    "\n",
    "\n",
    "\n",
    "from wordcloud import wordcloud\n",
    "from collections import Counter \n",
    "\n",
    "\n",
    "\n",
    "nltk.download('stopwords', quiet=True)\n",
    "nltk.download('wordnet', quiet=True)\n",
    "\n",
    "import warnings\n",
    "warnings.filterwarnings(\"ignore\")\n"
   ]
  },
  {
   "cell_type": "code",
   "execution_count": 3,
   "id": "51beff22",
   "metadata": {
    "execution": {
     "iopub.execute_input": "2025-08-19T23:32:03.910536Z",
     "iopub.status.busy": "2025-08-19T23:32:03.910034Z",
     "iopub.status.idle": "2025-08-19T23:32:04.272196Z",
     "shell.execute_reply": "2025-08-19T23:32:04.271494Z"
    },
    "papermill": {
     "duration": 0.370323,
     "end_time": "2025-08-19T23:32:04.273736",
     "exception": false,
     "start_time": "2025-08-19T23:32:03.903413",
     "status": "completed"
    },
    "tags": []
   },
   "outputs": [],
   "source": [
    "training_df = pd.read_csv(r\"/kaggle/input/twitter-entity-sentiment-analysis/twitter_training.csv\")\n",
    "validation_df = pd.read_csv(r\"/kaggle/input/twitter-entity-sentiment-analysis/twitter_validation.csv\")"
   ]
  },
  {
   "cell_type": "code",
   "execution_count": 4,
   "id": "65a83fad",
   "metadata": {
    "execution": {
     "iopub.execute_input": "2025-08-19T23:32:04.289474Z",
     "iopub.status.busy": "2025-08-19T23:32:04.288699Z",
     "iopub.status.idle": "2025-08-19T23:32:04.293341Z",
     "shell.execute_reply": "2025-08-19T23:32:04.292493Z"
    },
    "papermill": {
     "duration": 0.013367,
     "end_time": "2025-08-19T23:32:04.294615",
     "exception": false,
     "start_time": "2025-08-19T23:32:04.281248",
     "status": "completed"
    },
    "tags": []
   },
   "outputs": [],
   "source": [
    "training_df.columns = ['ID', 'Entity', 'Sentiment', 'Text']\n",
    "validation_df.columns = ['ID', 'Entity', 'Sentiment', 'Text']"
   ]
  },
  {
   "cell_type": "markdown",
   "id": "bd40fa60",
   "metadata": {
    "papermill": {
     "duration": 0.005536,
     "end_time": "2025-08-19T23:32:04.305572",
     "exception": false,
     "start_time": "2025-08-19T23:32:04.300036",
     "status": "completed"
    },
    "tags": []
   },
   "source": [
    "****Cleanning Data****"
   ]
  },
  {
   "cell_type": "code",
   "execution_count": 5,
   "id": "0bfb3add",
   "metadata": {
    "execution": {
     "iopub.execute_input": "2025-08-19T23:32:04.318108Z",
     "iopub.status.busy": "2025-08-19T23:32:04.317889Z",
     "iopub.status.idle": "2025-08-19T23:32:04.340837Z",
     "shell.execute_reply": "2025-08-19T23:32:04.340194Z"
    },
    "papermill": {
     "duration": 0.030498,
     "end_time": "2025-08-19T23:32:04.341897",
     "exception": false,
     "start_time": "2025-08-19T23:32:04.311399",
     "status": "completed"
    },
    "tags": []
   },
   "outputs": [
    {
     "data": {
      "text/html": [
       "<div>\n",
       "<style scoped>\n",
       "    .dataframe tbody tr th:only-of-type {\n",
       "        vertical-align: middle;\n",
       "    }\n",
       "\n",
       "    .dataframe tbody tr th {\n",
       "        vertical-align: top;\n",
       "    }\n",
       "\n",
       "    .dataframe thead th {\n",
       "        text-align: right;\n",
       "    }\n",
       "</style>\n",
       "<table border=\"1\" class=\"dataframe\">\n",
       "  <thead>\n",
       "    <tr style=\"text-align: right;\">\n",
       "      <th></th>\n",
       "      <th>ID</th>\n",
       "      <th>Entity</th>\n",
       "      <th>Sentiment</th>\n",
       "      <th>Text</th>\n",
       "    </tr>\n",
       "  </thead>\n",
       "  <tbody>\n",
       "    <tr>\n",
       "      <th>0</th>\n",
       "      <td>2401</td>\n",
       "      <td>Borderlands</td>\n",
       "      <td>Positive</td>\n",
       "      <td>I am coming to the borders and I will kill you...</td>\n",
       "    </tr>\n",
       "    <tr>\n",
       "      <th>1</th>\n",
       "      <td>2401</td>\n",
       "      <td>Borderlands</td>\n",
       "      <td>Positive</td>\n",
       "      <td>im getting on borderlands and i will kill you ...</td>\n",
       "    </tr>\n",
       "    <tr>\n",
       "      <th>2</th>\n",
       "      <td>2401</td>\n",
       "      <td>Borderlands</td>\n",
       "      <td>Positive</td>\n",
       "      <td>im coming on borderlands and i will murder you...</td>\n",
       "    </tr>\n",
       "    <tr>\n",
       "      <th>3</th>\n",
       "      <td>2401</td>\n",
       "      <td>Borderlands</td>\n",
       "      <td>Positive</td>\n",
       "      <td>im getting on borderlands 2 and i will murder ...</td>\n",
       "    </tr>\n",
       "    <tr>\n",
       "      <th>4</th>\n",
       "      <td>2401</td>\n",
       "      <td>Borderlands</td>\n",
       "      <td>Positive</td>\n",
       "      <td>im getting into borderlands and i can murder y...</td>\n",
       "    </tr>\n",
       "  </tbody>\n",
       "</table>\n",
       "</div>"
      ],
      "text/plain": [
       "     ID       Entity Sentiment  \\\n",
       "0  2401  Borderlands  Positive   \n",
       "1  2401  Borderlands  Positive   \n",
       "2  2401  Borderlands  Positive   \n",
       "3  2401  Borderlands  Positive   \n",
       "4  2401  Borderlands  Positive   \n",
       "\n",
       "                                                Text  \n",
       "0  I am coming to the borders and I will kill you...  \n",
       "1  im getting on borderlands and i will kill you ...  \n",
       "2  im coming on borderlands and i will murder you...  \n",
       "3  im getting on borderlands 2 and i will murder ...  \n",
       "4  im getting into borderlands and i can murder y...  "
      ]
     },
     "execution_count": 5,
     "metadata": {},
     "output_type": "execute_result"
    }
   ],
   "source": [
    "training_df.head()"
   ]
  },
  {
   "cell_type": "code",
   "execution_count": 6,
   "id": "8926a845",
   "metadata": {
    "execution": {
     "iopub.execute_input": "2025-08-19T23:32:04.354265Z",
     "iopub.status.busy": "2025-08-19T23:32:04.354015Z",
     "iopub.status.idle": "2025-08-19T23:32:04.361409Z",
     "shell.execute_reply": "2025-08-19T23:32:04.360752Z"
    },
    "papermill": {
     "duration": 0.014887,
     "end_time": "2025-08-19T23:32:04.362588",
     "exception": false,
     "start_time": "2025-08-19T23:32:04.347701",
     "status": "completed"
    },
    "tags": []
   },
   "outputs": [
    {
     "data": {
      "text/html": [
       "<div>\n",
       "<style scoped>\n",
       "    .dataframe tbody tr th:only-of-type {\n",
       "        vertical-align: middle;\n",
       "    }\n",
       "\n",
       "    .dataframe tbody tr th {\n",
       "        vertical-align: top;\n",
       "    }\n",
       "\n",
       "    .dataframe thead th {\n",
       "        text-align: right;\n",
       "    }\n",
       "</style>\n",
       "<table border=\"1\" class=\"dataframe\">\n",
       "  <thead>\n",
       "    <tr style=\"text-align: right;\">\n",
       "      <th></th>\n",
       "      <th>ID</th>\n",
       "      <th>Entity</th>\n",
       "      <th>Sentiment</th>\n",
       "      <th>Text</th>\n",
       "    </tr>\n",
       "  </thead>\n",
       "  <tbody>\n",
       "    <tr>\n",
       "      <th>0</th>\n",
       "      <td>352</td>\n",
       "      <td>Amazon</td>\n",
       "      <td>Neutral</td>\n",
       "      <td>BBC News - Amazon boss Jeff Bezos rejects clai...</td>\n",
       "    </tr>\n",
       "    <tr>\n",
       "      <th>1</th>\n",
       "      <td>8312</td>\n",
       "      <td>Microsoft</td>\n",
       "      <td>Negative</td>\n",
       "      <td>@Microsoft Why do I pay for WORD when it funct...</td>\n",
       "    </tr>\n",
       "    <tr>\n",
       "      <th>2</th>\n",
       "      <td>4371</td>\n",
       "      <td>CS-GO</td>\n",
       "      <td>Negative</td>\n",
       "      <td>CSGO matchmaking is so full of closet hacking,...</td>\n",
       "    </tr>\n",
       "    <tr>\n",
       "      <th>3</th>\n",
       "      <td>4433</td>\n",
       "      <td>Google</td>\n",
       "      <td>Neutral</td>\n",
       "      <td>Now the President is slapping Americans in the...</td>\n",
       "    </tr>\n",
       "    <tr>\n",
       "      <th>4</th>\n",
       "      <td>6273</td>\n",
       "      <td>FIFA</td>\n",
       "      <td>Negative</td>\n",
       "      <td>Hi @EAHelp I’ve had Madeleine McCann in my cel...</td>\n",
       "    </tr>\n",
       "  </tbody>\n",
       "</table>\n",
       "</div>"
      ],
      "text/plain": [
       "     ID     Entity Sentiment  \\\n",
       "0   352     Amazon   Neutral   \n",
       "1  8312  Microsoft  Negative   \n",
       "2  4371      CS-GO  Negative   \n",
       "3  4433     Google   Neutral   \n",
       "4  6273       FIFA  Negative   \n",
       "\n",
       "                                                Text  \n",
       "0  BBC News - Amazon boss Jeff Bezos rejects clai...  \n",
       "1  @Microsoft Why do I pay for WORD when it funct...  \n",
       "2  CSGO matchmaking is so full of closet hacking,...  \n",
       "3  Now the President is slapping Americans in the...  \n",
       "4  Hi @EAHelp I’ve had Madeleine McCann in my cel...  "
      ]
     },
     "execution_count": 6,
     "metadata": {},
     "output_type": "execute_result"
    }
   ],
   "source": [
    "validation_df.head()"
   ]
  },
  {
   "cell_type": "code",
   "execution_count": 7,
   "id": "6681e412",
   "metadata": {
    "execution": {
     "iopub.execute_input": "2025-08-19T23:32:04.375283Z",
     "iopub.status.busy": "2025-08-19T23:32:04.375080Z",
     "iopub.status.idle": "2025-08-19T23:32:04.393933Z",
     "shell.execute_reply": "2025-08-19T23:32:04.393243Z"
    },
    "papermill": {
     "duration": 0.026493,
     "end_time": "2025-08-19T23:32:04.394972",
     "exception": false,
     "start_time": "2025-08-19T23:32:04.368479",
     "status": "completed"
    },
    "tags": []
   },
   "outputs": [
    {
     "data": {
      "text/plain": [
       "ID             0\n",
       "Entity         0\n",
       "Sentiment      0\n",
       "Text         686\n",
       "dtype: int64"
      ]
     },
     "execution_count": 7,
     "metadata": {},
     "output_type": "execute_result"
    }
   ],
   "source": [
    "training_df.isna().sum()"
   ]
  },
  {
   "cell_type": "code",
   "execution_count": 8,
   "id": "859133df",
   "metadata": {
    "execution": {
     "iopub.execute_input": "2025-08-19T23:32:04.407687Z",
     "iopub.status.busy": "2025-08-19T23:32:04.407443Z",
     "iopub.status.idle": "2025-08-19T23:32:04.440948Z",
     "shell.execute_reply": "2025-08-19T23:32:04.440343Z"
    },
    "papermill": {
     "duration": 0.041163,
     "end_time": "2025-08-19T23:32:04.442082",
     "exception": false,
     "start_time": "2025-08-19T23:32:04.400919",
     "status": "completed"
    },
    "tags": []
   },
   "outputs": [],
   "source": [
    "training_df.dropna(inplace=True)"
   ]
  },
  {
   "cell_type": "code",
   "execution_count": 9,
   "id": "077d5ba5",
   "metadata": {
    "execution": {
     "iopub.execute_input": "2025-08-19T23:32:04.455388Z",
     "iopub.status.busy": "2025-08-19T23:32:04.455158Z",
     "iopub.status.idle": "2025-08-19T23:32:04.459744Z",
     "shell.execute_reply": "2025-08-19T23:32:04.459121Z"
    },
    "papermill": {
     "duration": 0.012635,
     "end_time": "2025-08-19T23:32:04.460967",
     "exception": false,
     "start_time": "2025-08-19T23:32:04.448332",
     "status": "completed"
    },
    "tags": []
   },
   "outputs": [
    {
     "data": {
      "text/plain": [
       "(73995, 4)"
      ]
     },
     "execution_count": 9,
     "metadata": {},
     "output_type": "execute_result"
    }
   ],
   "source": [
    "training_df.shape"
   ]
  },
  {
   "cell_type": "code",
   "execution_count": 10,
   "id": "c04d00b5",
   "metadata": {
    "execution": {
     "iopub.execute_input": "2025-08-19T23:32:04.473923Z",
     "iopub.status.busy": "2025-08-19T23:32:04.473704Z",
     "iopub.status.idle": "2025-08-19T23:32:04.531158Z",
     "shell.execute_reply": "2025-08-19T23:32:04.530327Z"
    },
    "papermill": {
     "duration": 0.065369,
     "end_time": "2025-08-19T23:32:04.532546",
     "exception": false,
     "start_time": "2025-08-19T23:32:04.467177",
     "status": "completed"
    },
    "tags": []
   },
   "outputs": [
    {
     "data": {
      "text/plain": [
       "2340"
      ]
     },
     "execution_count": 10,
     "metadata": {},
     "output_type": "execute_result"
    }
   ],
   "source": [
    "training_df.duplicated().sum()"
   ]
  },
  {
   "cell_type": "code",
   "execution_count": 11,
   "id": "049c104a",
   "metadata": {
    "execution": {
     "iopub.execute_input": "2025-08-19T23:32:04.545539Z",
     "iopub.status.busy": "2025-08-19T23:32:04.545307Z",
     "iopub.status.idle": "2025-08-19T23:32:04.594404Z",
     "shell.execute_reply": "2025-08-19T23:32:04.593692Z"
    },
    "papermill": {
     "duration": 0.056885,
     "end_time": "2025-08-19T23:32:04.595675",
     "exception": false,
     "start_time": "2025-08-19T23:32:04.538790",
     "status": "completed"
    },
    "tags": []
   },
   "outputs": [
    {
     "data": {
      "text/plain": [
       "(71655, 4)"
      ]
     },
     "execution_count": 11,
     "metadata": {},
     "output_type": "execute_result"
    }
   ],
   "source": [
    "training_df.drop_duplicates(inplace=True)\n",
    "training_df.shape"
   ]
  },
  {
   "cell_type": "code",
   "execution_count": 12,
   "id": "62e9a390",
   "metadata": {
    "execution": {
     "iopub.execute_input": "2025-08-19T23:32:04.609438Z",
     "iopub.status.busy": "2025-08-19T23:32:04.609200Z",
     "iopub.status.idle": "2025-08-19T23:32:04.617104Z",
     "shell.execute_reply": "2025-08-19T23:32:04.616407Z"
    },
    "papermill": {
     "duration": 0.016108,
     "end_time": "2025-08-19T23:32:04.618337",
     "exception": false,
     "start_time": "2025-08-19T23:32:04.602229",
     "status": "completed"
    },
    "tags": []
   },
   "outputs": [],
   "source": [
    "training_df.drop(columns = ['ID', 'Entity'],inplace=True)"
   ]
  },
  {
   "cell_type": "code",
   "execution_count": 13,
   "id": "43d4106f",
   "metadata": {
    "execution": {
     "iopub.execute_input": "2025-08-19T23:32:04.631003Z",
     "iopub.status.busy": "2025-08-19T23:32:04.630549Z",
     "iopub.status.idle": "2025-08-19T23:32:04.637940Z",
     "shell.execute_reply": "2025-08-19T23:32:04.637333Z"
    },
    "papermill": {
     "duration": 0.014807,
     "end_time": "2025-08-19T23:32:04.639055",
     "exception": false,
     "start_time": "2025-08-19T23:32:04.624248",
     "status": "completed"
    },
    "tags": []
   },
   "outputs": [
    {
     "data": {
      "text/html": [
       "<div>\n",
       "<style scoped>\n",
       "    .dataframe tbody tr th:only-of-type {\n",
       "        vertical-align: middle;\n",
       "    }\n",
       "\n",
       "    .dataframe tbody tr th {\n",
       "        vertical-align: top;\n",
       "    }\n",
       "\n",
       "    .dataframe thead th {\n",
       "        text-align: right;\n",
       "    }\n",
       "</style>\n",
       "<table border=\"1\" class=\"dataframe\">\n",
       "  <thead>\n",
       "    <tr style=\"text-align: right;\">\n",
       "      <th></th>\n",
       "      <th>Sentiment</th>\n",
       "      <th>Text</th>\n",
       "    </tr>\n",
       "  </thead>\n",
       "  <tbody>\n",
       "    <tr>\n",
       "      <th>0</th>\n",
       "      <td>Positive</td>\n",
       "      <td>I am coming to the borders and I will kill you...</td>\n",
       "    </tr>\n",
       "    <tr>\n",
       "      <th>1</th>\n",
       "      <td>Positive</td>\n",
       "      <td>im getting on borderlands and i will kill you ...</td>\n",
       "    </tr>\n",
       "    <tr>\n",
       "      <th>2</th>\n",
       "      <td>Positive</td>\n",
       "      <td>im coming on borderlands and i will murder you...</td>\n",
       "    </tr>\n",
       "    <tr>\n",
       "      <th>3</th>\n",
       "      <td>Positive</td>\n",
       "      <td>im getting on borderlands 2 and i will murder ...</td>\n",
       "    </tr>\n",
       "    <tr>\n",
       "      <th>4</th>\n",
       "      <td>Positive</td>\n",
       "      <td>im getting into borderlands and i can murder y...</td>\n",
       "    </tr>\n",
       "    <tr>\n",
       "      <th>...</th>\n",
       "      <td>...</td>\n",
       "      <td>...</td>\n",
       "    </tr>\n",
       "    <tr>\n",
       "      <th>74676</th>\n",
       "      <td>Positive</td>\n",
       "      <td>Just realized that the Windows partition of my...</td>\n",
       "    </tr>\n",
       "    <tr>\n",
       "      <th>74677</th>\n",
       "      <td>Positive</td>\n",
       "      <td>Just realized that my Mac window partition is ...</td>\n",
       "    </tr>\n",
       "    <tr>\n",
       "      <th>74678</th>\n",
       "      <td>Positive</td>\n",
       "      <td>Just realized the windows partition of my Mac ...</td>\n",
       "    </tr>\n",
       "    <tr>\n",
       "      <th>74679</th>\n",
       "      <td>Positive</td>\n",
       "      <td>Just realized between the windows partition of...</td>\n",
       "    </tr>\n",
       "    <tr>\n",
       "      <th>74680</th>\n",
       "      <td>Positive</td>\n",
       "      <td>Just like the windows partition of my Mac is l...</td>\n",
       "    </tr>\n",
       "  </tbody>\n",
       "</table>\n",
       "<p>71655 rows × 2 columns</p>\n",
       "</div>"
      ],
      "text/plain": [
       "      Sentiment                                               Text\n",
       "0      Positive  I am coming to the borders and I will kill you...\n",
       "1      Positive  im getting on borderlands and i will kill you ...\n",
       "2      Positive  im coming on borderlands and i will murder you...\n",
       "3      Positive  im getting on borderlands 2 and i will murder ...\n",
       "4      Positive  im getting into borderlands and i can murder y...\n",
       "...         ...                                                ...\n",
       "74676  Positive  Just realized that the Windows partition of my...\n",
       "74677  Positive  Just realized that my Mac window partition is ...\n",
       "74678  Positive  Just realized the windows partition of my Mac ...\n",
       "74679  Positive  Just realized between the windows partition of...\n",
       "74680  Positive  Just like the windows partition of my Mac is l...\n",
       "\n",
       "[71655 rows x 2 columns]"
      ]
     },
     "execution_count": 13,
     "metadata": {},
     "output_type": "execute_result"
    }
   ],
   "source": [
    "training_df"
   ]
  },
  {
   "cell_type": "code",
   "execution_count": 14,
   "id": "dda689a9",
   "metadata": {
    "execution": {
     "iopub.execute_input": "2025-08-19T23:32:04.652205Z",
     "iopub.status.busy": "2025-08-19T23:32:04.651984Z",
     "iopub.status.idle": "2025-08-19T23:32:04.661173Z",
     "shell.execute_reply": "2025-08-19T23:32:04.660544Z"
    },
    "papermill": {
     "duration": 0.016933,
     "end_time": "2025-08-19T23:32:04.662283",
     "exception": false,
     "start_time": "2025-08-19T23:32:04.645350",
     "status": "completed"
    },
    "tags": []
   },
   "outputs": [
    {
     "data": {
      "text/html": [
       "<div>\n",
       "<style scoped>\n",
       "    .dataframe tbody tr th:only-of-type {\n",
       "        vertical-align: middle;\n",
       "    }\n",
       "\n",
       "    .dataframe tbody tr th {\n",
       "        vertical-align: top;\n",
       "    }\n",
       "\n",
       "    .dataframe thead th {\n",
       "        text-align: right;\n",
       "    }\n",
       "</style>\n",
       "<table border=\"1\" class=\"dataframe\">\n",
       "  <thead>\n",
       "    <tr style=\"text-align: right;\">\n",
       "      <th></th>\n",
       "      <th>Sentiment</th>\n",
       "      <th>Text</th>\n",
       "    </tr>\n",
       "  </thead>\n",
       "  <tbody>\n",
       "    <tr>\n",
       "      <th>33579</th>\n",
       "      <td>Neutral</td>\n",
       "      <td>Friday already. The fortnight to review. 1 Wha...</td>\n",
       "    </tr>\n",
       "    <tr>\n",
       "      <th>42773</th>\n",
       "      <td>Positive</td>\n",
       "      <td>Kindly unban pubg otherwise many young entrepr...</td>\n",
       "    </tr>\n",
       "    <tr>\n",
       "      <th>35683</th>\n",
       "      <td>Irrelevant</td>\n",
       "      <td>At the same time, despite the fact that there ...</td>\n",
       "    </tr>\n",
       "    <tr>\n",
       "      <th>18389</th>\n",
       "      <td>Neutral</td>\n",
       "      <td>My son Miles!!! He's grown up so big . .</td>\n",
       "    </tr>\n",
       "    <tr>\n",
       "      <th>32305</th>\n",
       "      <td>Irrelevant</td>\n",
       "      <td>if you're going to call op a bad take and use ...</td>\n",
       "    </tr>\n",
       "    <tr>\n",
       "      <th>120</th>\n",
       "      <td>Positive</td>\n",
       "      <td>Finally played by Borderlands 3. The actual ga...</td>\n",
       "    </tr>\n",
       "    <tr>\n",
       "      <th>18345</th>\n",
       "      <td>Irrelevant</td>\n",
       "      <td>See @imjustbait.. because i ’ m winning</td>\n",
       "    </tr>\n",
       "    <tr>\n",
       "      <th>13999</th>\n",
       "      <td>Neutral</td>\n",
       "      <td>With so many stunning personalities like est.e...</td>\n",
       "    </tr>\n",
       "    <tr>\n",
       "      <th>2166</th>\n",
       "      <td>Negative</td>\n",
       "      <td>That's why I didn't buy Borderlands 3. Randy P...</td>\n",
       "    </tr>\n",
       "    <tr>\n",
       "      <th>18627</th>\n",
       "      <td>Negative</td>\n",
       "      <td>You ’ one re a terrorist.</td>\n",
       "    </tr>\n",
       "  </tbody>\n",
       "</table>\n",
       "</div>"
      ],
      "text/plain": [
       "        Sentiment                                               Text\n",
       "33579     Neutral  Friday already. The fortnight to review. 1 Wha...\n",
       "42773    Positive  Kindly unban pubg otherwise many young entrepr...\n",
       "35683  Irrelevant  At the same time, despite the fact that there ...\n",
       "18389     Neutral         My son Miles!!! He's grown up so big . .  \n",
       "32305  Irrelevant  if you're going to call op a bad take and use ...\n",
       "120      Positive  Finally played by Borderlands 3. The actual ga...\n",
       "18345  Irrelevant            See @imjustbait.. because i ’ m winning\n",
       "13999     Neutral  With so many stunning personalities like est.e...\n",
       "2166     Negative  That's why I didn't buy Borderlands 3. Randy P...\n",
       "18627    Negative                          You ’ one re a terrorist."
      ]
     },
     "execution_count": 14,
     "metadata": {},
     "output_type": "execute_result"
    }
   ],
   "source": [
    "training_df.sample(10)"
   ]
  },
  {
   "cell_type": "markdown",
   "id": "1e5a6574",
   "metadata": {
    "papermill": {
     "duration": 0.006584,
     "end_time": "2025-08-19T23:32:04.675581",
     "exception": false,
     "start_time": "2025-08-19T23:32:04.668997",
     "status": "completed"
    },
    "tags": []
   },
   "source": [
    "**Text Processing**"
   ]
  },
  {
   "cell_type": "code",
   "execution_count": 15,
   "id": "90ba159c",
   "metadata": {
    "execution": {
     "iopub.execute_input": "2025-08-19T23:32:04.690873Z",
     "iopub.status.busy": "2025-08-19T23:32:04.690575Z",
     "iopub.status.idle": "2025-08-19T23:32:04.696387Z",
     "shell.execute_reply": "2025-08-19T23:32:04.695797Z"
    },
    "papermill": {
     "duration": 0.014666,
     "end_time": "2025-08-19T23:32:04.697502",
     "exception": false,
     "start_time": "2025-08-19T23:32:04.682836",
     "status": "completed"
    },
    "tags": []
   },
   "outputs": [],
   "source": [
    "def processed_text(text):\n",
    "    # text normalization\n",
    "    text = text.lower()\n",
    "    # removing links\n",
    "    text = re.sub(r\"http\\S+|www\\S+|https\\S+\", ' ', text)\n",
    "    # removing punctuation\n",
    "    text = text.translate(str.maketrans('', '', string.punctuation))\n",
    "    # remove numbers\n",
    "    text = re.sub(r\"\\d+\", ' ', text)\n",
    "    # remove extra spaces\n",
    "    text = re.sub(r\"\\s+\", ' ', text).strip()\n",
    "    # remove emojis\n",
    "    text = re.sub(r'[^\\x00-\\x7F]+', ' ', text)\n",
    "    replace_list = {\n",
    "        \"isn't\" : \"is not\",\n",
    "        \"won't\" : \"would not\",\n",
    "        \"im\" : \"i am\",\n",
    "        \"can't\" : \"can not\",\n",
    "        \"don't\" : \"do not\",\n",
    "        \"should't\" : \"should not\",\n",
    "        \"needn't\": \"need not\",\n",
    "        \"hasn't\": \"has not\",\n",
    "        \"haven't\": \"have not\",\n",
    "        \"weren't\": \"were not\",\n",
    "        \"mightn't\": \"might not\",\n",
    "        \"didn't\": \"did not\",\n",
    "        \"n't\": \" not\",\n",
    "        \"'re\": \" are\",\n",
    "        \"'s\": \" is\",\n",
    "        \"'d\": \" would\",\n",
    "        \"'ll\": \" will\",\n",
    "        \"'t\": \" not\",\n",
    "        \"'ve\": \" have\",\n",
    "        \"'m\": \" am\",\n",
    "    }\n",
    "    # apply  replacements\n",
    "    for pattern, replace in replace_list.items():\n",
    "        text = re.sub(pattern, replace, text)\n",
    "\n",
    "    return text\n"
   ]
  },
  {
   "cell_type": "code",
   "execution_count": 16,
   "id": "81146164",
   "metadata": {
    "execution": {
     "iopub.execute_input": "2025-08-19T23:32:04.712143Z",
     "iopub.status.busy": "2025-08-19T23:32:04.711910Z",
     "iopub.status.idle": "2025-08-19T23:32:04.717265Z",
     "shell.execute_reply": "2025-08-19T23:32:04.716390Z"
    },
    "papermill": {
     "duration": 0.013934,
     "end_time": "2025-08-19T23:32:04.718463",
     "exception": false,
     "start_time": "2025-08-19T23:32:04.704529",
     "status": "completed"
    },
    "tags": []
   },
   "outputs": [
    {
     "name": "stdout",
     "output_type": "stream",
     "text": [
      "0    I am coming to the borders and I will kill you...\n",
      "1    im getting on borderlands and i will kill you ...\n",
      "2    im coming on borderlands and i will murder you...\n",
      "3    im getting on borderlands 2 and i will murder ...\n",
      "4    im getting into borderlands and i can murder y...\n",
      "Name: Text, dtype: object\n",
      "<class 'str'>\n"
     ]
    }
   ],
   "source": [
    "print(training_df['Text'].head())\n",
    "print(type(training_df['Text'].iloc[0]))\n"
   ]
  },
  {
   "cell_type": "code",
   "execution_count": 17,
   "id": "eecf9f4f",
   "metadata": {
    "execution": {
     "iopub.execute_input": "2025-08-19T23:32:04.733450Z",
     "iopub.status.busy": "2025-08-19T23:32:04.733238Z",
     "iopub.status.idle": "2025-08-19T23:32:04.740673Z",
     "shell.execute_reply": "2025-08-19T23:32:04.740030Z"
    },
    "papermill": {
     "duration": 0.016349,
     "end_time": "2025-08-19T23:32:04.741912",
     "exception": false,
     "start_time": "2025-08-19T23:32:04.725563",
     "status": "completed"
    },
    "tags": []
   },
   "outputs": [],
   "source": [
    "training_df['Text'] = training_df['Text'].astype(str)\n",
    "validation_df['Text'] = validation_df['Text'].astype(str)"
   ]
  },
  {
   "cell_type": "code",
   "execution_count": 18,
   "id": "87e2a19b",
   "metadata": {
    "execution": {
     "iopub.execute_input": "2025-08-19T23:32:04.756406Z",
     "iopub.status.busy": "2025-08-19T23:32:04.755951Z",
     "iopub.status.idle": "2025-08-19T23:32:07.334957Z",
     "shell.execute_reply": "2025-08-19T23:32:07.334267Z"
    },
    "papermill": {
     "duration": 2.587662,
     "end_time": "2025-08-19T23:32:07.336398",
     "exception": false,
     "start_time": "2025-08-19T23:32:04.748736",
     "status": "completed"
    },
    "tags": []
   },
   "outputs": [],
   "source": [
    "training_df['Text'] = training_df['Text'].apply(processed_text)\n",
    "validation_df['Text'] = validation_df['Text'].apply(processed_text)"
   ]
  },
  {
   "cell_type": "code",
   "execution_count": 19,
   "id": "d7c7e8c4",
   "metadata": {
    "execution": {
     "iopub.execute_input": "2025-08-19T23:32:07.403152Z",
     "iopub.status.busy": "2025-08-19T23:32:07.402878Z",
     "iopub.status.idle": "2025-08-19T23:32:19.024329Z",
     "shell.execute_reply": "2025-08-19T23:32:19.023690Z"
    },
    "papermill": {
     "duration": 11.631223,
     "end_time": "2025-08-19T23:32:19.025826",
     "exception": false,
     "start_time": "2025-08-19T23:32:07.394603",
     "status": "completed"
    },
    "tags": []
   },
   "outputs": [],
   "source": [
    "stemmer = PorterStemmer()\n",
    "stop_words = set(stopwords.words('english'))\n",
    "\n",
    "def preprocess_text(text):\n",
    "    words = text.split()\n",
    "    processed_words = [stemmer.stem(word) for word in words if word not in stop_words]\n",
    "    return ' '.join(processed_words)\n",
    "\n",
    "training_df['Text'] = training_df['Text'].apply(preprocess_text)\n",
    "validation_df['Text'] = validation_df['Text'].apply(preprocess_text)"
   ]
  },
  {
   "cell_type": "code",
   "execution_count": 20,
   "id": "58019891",
   "metadata": {
    "execution": {
     "iopub.execute_input": "2025-08-19T23:32:19.041218Z",
     "iopub.status.busy": "2025-08-19T23:32:19.040965Z",
     "iopub.status.idle": "2025-08-19T23:32:19.075666Z",
     "shell.execute_reply": "2025-08-19T23:32:19.074615Z"
    },
    "papermill": {
     "duration": 0.044175,
     "end_time": "2025-08-19T23:32:19.077340",
     "exception": false,
     "start_time": "2025-08-19T23:32:19.033165",
     "status": "completed"
    },
    "tags": []
   },
   "outputs": [
    {
     "data": {
      "text/html": [
       "<div>\n",
       "<style scoped>\n",
       "    .dataframe tbody tr th:only-of-type {\n",
       "        vertical-align: middle;\n",
       "    }\n",
       "\n",
       "    .dataframe tbody tr th {\n",
       "        vertical-align: top;\n",
       "    }\n",
       "\n",
       "    .dataframe thead th {\n",
       "        text-align: right;\n",
       "    }\n",
       "</style>\n",
       "<table border=\"1\" class=\"dataframe\">\n",
       "  <thead>\n",
       "    <tr style=\"text-align: right;\">\n",
       "      <th></th>\n",
       "      <th>Sentiment</th>\n",
       "      <th>Text</th>\n",
       "    </tr>\n",
       "  </thead>\n",
       "  <tbody>\n",
       "    <tr>\n",
       "      <th>0</th>\n",
       "      <td>3</td>\n",
       "      <td>come border kill</td>\n",
       "    </tr>\n",
       "    <tr>\n",
       "      <th>1</th>\n",
       "      <td>3</td>\n",
       "      <td>get borderland kill</td>\n",
       "    </tr>\n",
       "    <tr>\n",
       "      <th>2</th>\n",
       "      <td>3</td>\n",
       "      <td>come borderland murder</td>\n",
       "    </tr>\n",
       "    <tr>\n",
       "      <th>3</th>\n",
       "      <td>3</td>\n",
       "      <td>get borderland murder</td>\n",
       "    </tr>\n",
       "    <tr>\n",
       "      <th>4</th>\n",
       "      <td>3</td>\n",
       "      <td>get borderland murder</td>\n",
       "    </tr>\n",
       "    <tr>\n",
       "      <th>...</th>\n",
       "      <td>...</td>\n",
       "      <td>...</td>\n",
       "    </tr>\n",
       "    <tr>\n",
       "      <th>74676</th>\n",
       "      <td>3</td>\n",
       "      <td>realiz window partit mac like year behind nvid...</td>\n",
       "    </tr>\n",
       "    <tr>\n",
       "      <th>74677</th>\n",
       "      <td>3</td>\n",
       "      <td>realiz mac window partit year behind nvidia dr...</td>\n",
       "    </tr>\n",
       "    <tr>\n",
       "      <th>74678</th>\n",
       "      <td>3</td>\n",
       "      <td>realiz window partit mac year behind nvidia dr...</td>\n",
       "    </tr>\n",
       "    <tr>\n",
       "      <th>74679</th>\n",
       "      <td>3</td>\n",
       "      <td>realiz window partit mac like year behind nvid...</td>\n",
       "    </tr>\n",
       "    <tr>\n",
       "      <th>74680</th>\n",
       "      <td>3</td>\n",
       "      <td>like window partit mac like year behind driver...</td>\n",
       "    </tr>\n",
       "  </tbody>\n",
       "</table>\n",
       "<p>71655 rows × 2 columns</p>\n",
       "</div>"
      ],
      "text/plain": [
       "       Sentiment                                               Text\n",
       "0              3                                   come border kill\n",
       "1              3                                get borderland kill\n",
       "2              3                             come borderland murder\n",
       "3              3                              get borderland murder\n",
       "4              3                              get borderland murder\n",
       "...          ...                                                ...\n",
       "74676          3  realiz window partit mac like year behind nvid...\n",
       "74677          3  realiz mac window partit year behind nvidia dr...\n",
       "74678          3  realiz window partit mac year behind nvidia dr...\n",
       "74679          3  realiz window partit mac like year behind nvid...\n",
       "74680          3  like window partit mac like year behind driver...\n",
       "\n",
       "[71655 rows x 2 columns]"
      ]
     },
     "execution_count": 20,
     "metadata": {},
     "output_type": "execute_result"
    }
   ],
   "source": [
    "label_encoder = LabelEncoder()\n",
    "training_df['Sentiment'] = label_encoder.fit_transform(training_df['Sentiment'])\n",
    "training_df"
   ]
  },
  {
   "cell_type": "code",
   "execution_count": 21,
   "id": "2aaa0745",
   "metadata": {
    "execution": {
     "iopub.execute_input": "2025-08-19T23:32:19.100603Z",
     "iopub.status.busy": "2025-08-19T23:32:19.100123Z",
     "iopub.status.idle": "2025-08-19T23:32:19.111363Z",
     "shell.execute_reply": "2025-08-19T23:32:19.110710Z"
    },
    "papermill": {
     "duration": 0.023154,
     "end_time": "2025-08-19T23:32:19.112543",
     "exception": false,
     "start_time": "2025-08-19T23:32:19.089389",
     "status": "completed"
    },
    "tags": []
   },
   "outputs": [
    {
     "data": {
      "text/html": [
       "<div>\n",
       "<style scoped>\n",
       "    .dataframe tbody tr th:only-of-type {\n",
       "        vertical-align: middle;\n",
       "    }\n",
       "\n",
       "    .dataframe tbody tr th {\n",
       "        vertical-align: top;\n",
       "    }\n",
       "\n",
       "    .dataframe thead th {\n",
       "        text-align: right;\n",
       "    }\n",
       "</style>\n",
       "<table border=\"1\" class=\"dataframe\">\n",
       "  <thead>\n",
       "    <tr style=\"text-align: right;\">\n",
       "      <th></th>\n",
       "      <th>ID</th>\n",
       "      <th>Entity</th>\n",
       "      <th>Sentiment</th>\n",
       "      <th>Text</th>\n",
       "    </tr>\n",
       "  </thead>\n",
       "  <tbody>\n",
       "    <tr>\n",
       "      <th>0</th>\n",
       "      <td>352</td>\n",
       "      <td>Amazon</td>\n",
       "      <td>2</td>\n",
       "      <td>bbc news amazon boss jeff bezo reject clai am ...</td>\n",
       "    </tr>\n",
       "    <tr>\n",
       "      <th>1</th>\n",
       "      <td>8312</td>\n",
       "      <td>Microsoft</td>\n",
       "      <td>1</td>\n",
       "      <td>microsoft pay word function poorli samsungu ch...</td>\n",
       "    </tr>\n",
       "    <tr>\n",
       "      <th>2</th>\n",
       "      <td>4371</td>\n",
       "      <td>CS-GO</td>\n",
       "      <td>1</td>\n",
       "      <td>csgo matchmak full closet hack truli aw game</td>\n",
       "    </tr>\n",
       "    <tr>\n",
       "      <th>3</th>\n",
       "      <td>4433</td>\n",
       "      <td>Google</td>\n",
       "      <td>2</td>\n",
       "      <td>presid slap american face realli commit unlaw ...</td>\n",
       "    </tr>\n",
       "    <tr>\n",
       "      <th>4</th>\n",
       "      <td>6273</td>\n",
       "      <td>FIFA</td>\n",
       "      <td>1</td>\n",
       "      <td>hi eahelp madelein mccann cellar past year lit...</td>\n",
       "    </tr>\n",
       "    <tr>\n",
       "      <th>...</th>\n",
       "      <td>...</td>\n",
       "      <td>...</td>\n",
       "      <td>...</td>\n",
       "      <td>...</td>\n",
       "    </tr>\n",
       "    <tr>\n",
       "      <th>994</th>\n",
       "      <td>4891</td>\n",
       "      <td>GrandTheftAuto(GTA)</td>\n",
       "      <td>0</td>\n",
       "      <td>toronto art cultur capit canada wonder want st...</td>\n",
       "    </tr>\n",
       "    <tr>\n",
       "      <th>995</th>\n",
       "      <td>4359</td>\n",
       "      <td>CS-GO</td>\n",
       "      <td>0</td>\n",
       "      <td>actual good move tot bring viewer one peopl go...</td>\n",
       "    </tr>\n",
       "    <tr>\n",
       "      <th>996</th>\n",
       "      <td>2652</td>\n",
       "      <td>Borderlands</td>\n",
       "      <td>3</td>\n",
       "      <td>today suck ti ame drink wine n play borderland...</td>\n",
       "    </tr>\n",
       "    <tr>\n",
       "      <th>997</th>\n",
       "      <td>8069</td>\n",
       "      <td>Microsoft</td>\n",
       "      <td>3</td>\n",
       "      <td>bought fraction microsoft today small win</td>\n",
       "    </tr>\n",
       "    <tr>\n",
       "      <th>998</th>\n",
       "      <td>6960</td>\n",
       "      <td>johnson&amp;johnson</td>\n",
       "      <td>2</td>\n",
       "      <td>johnson johnson stop sell talc babi powder us ...</td>\n",
       "    </tr>\n",
       "  </tbody>\n",
       "</table>\n",
       "<p>999 rows × 4 columns</p>\n",
       "</div>"
      ],
      "text/plain": [
       "       ID               Entity  Sentiment  \\\n",
       "0     352               Amazon          2   \n",
       "1    8312            Microsoft          1   \n",
       "2    4371                CS-GO          1   \n",
       "3    4433               Google          2   \n",
       "4    6273                 FIFA          1   \n",
       "..    ...                  ...        ...   \n",
       "994  4891  GrandTheftAuto(GTA)          0   \n",
       "995  4359                CS-GO          0   \n",
       "996  2652          Borderlands          3   \n",
       "997  8069            Microsoft          3   \n",
       "998  6960      johnson&johnson          2   \n",
       "\n",
       "                                                  Text  \n",
       "0    bbc news amazon boss jeff bezo reject clai am ...  \n",
       "1    microsoft pay word function poorli samsungu ch...  \n",
       "2         csgo matchmak full closet hack truli aw game  \n",
       "3    presid slap american face realli commit unlaw ...  \n",
       "4    hi eahelp madelein mccann cellar past year lit...  \n",
       "..                                                 ...  \n",
       "994  toronto art cultur capit canada wonder want st...  \n",
       "995  actual good move tot bring viewer one peopl go...  \n",
       "996  today suck ti ame drink wine n play borderland...  \n",
       "997          bought fraction microsoft today small win  \n",
       "998  johnson johnson stop sell talc babi powder us ...  \n",
       "\n",
       "[999 rows x 4 columns]"
      ]
     },
     "execution_count": 21,
     "metadata": {},
     "output_type": "execute_result"
    }
   ],
   "source": [
    "label_encoder = LabelEncoder()\n",
    "validation_df['Sentiment'] = label_encoder.fit_transform(validation_df['Sentiment'])\n",
    "validation_df"
   ]
  },
  {
   "cell_type": "code",
   "execution_count": 22,
   "id": "41beb847",
   "metadata": {
    "execution": {
     "iopub.execute_input": "2025-08-19T23:32:19.128188Z",
     "iopub.status.busy": "2025-08-19T23:32:19.127975Z",
     "iopub.status.idle": "2025-08-19T23:32:20.852278Z",
     "shell.execute_reply": "2025-08-19T23:32:20.851512Z"
    },
    "papermill": {
     "duration": 1.733709,
     "end_time": "2025-08-19T23:32:20.853797",
     "exception": false,
     "start_time": "2025-08-19T23:32:19.120088",
     "status": "completed"
    },
    "tags": []
   },
   "outputs": [],
   "source": [
    "tokenizer = Tokenizer(num_words = 10000)\n",
    "tokenizer.fit_on_texts(training_df['Text'])\n",
    "train_sequence = tokenizer.texts_to_sequences(training_df['Text'])\n",
    "valid_sequence = tokenizer.texts_to_sequences(validation_df['Text'])\n",
    "\n",
    "max_sequence_length = 100  \n",
    "\n",
    "x = pad_sequences(train_sequence, maxlen = max_sequence_length)  \n",
    "x_val = pad_sequences(valid_sequence, maxlen = max_sequence_length)  "
   ]
  },
  {
   "cell_type": "code",
   "execution_count": 23,
   "id": "5fc0fea3",
   "metadata": {
    "execution": {
     "iopub.execute_input": "2025-08-19T23:32:20.869171Z",
     "iopub.status.busy": "2025-08-19T23:32:20.868945Z",
     "iopub.status.idle": "2025-08-19T23:32:20.894487Z",
     "shell.execute_reply": "2025-08-19T23:32:20.893648Z"
    },
    "papermill": {
     "duration": 0.034601,
     "end_time": "2025-08-19T23:32:20.895713",
     "exception": false,
     "start_time": "2025-08-19T23:32:20.861112",
     "status": "completed"
    },
    "tags": []
   },
   "outputs": [
    {
     "name": "stdout",
     "output_type": "stream",
     "text": [
      "Tokenizer has been saved.\n"
     ]
    }
   ],
   "source": [
    "import pickle\n",
    "\n",
    "with open('tokenizer_she.pkl', 'wb') as file:\n",
    "    pickle.dump(tokenizer, file)\n",
    "\n",
    "print(\"Tokenizer has been saved.\")"
   ]
  },
  {
   "cell_type": "code",
   "execution_count": 24,
   "id": "a3678ecc",
   "metadata": {
    "execution": {
     "iopub.execute_input": "2025-08-19T23:32:20.910520Z",
     "iopub.status.busy": "2025-08-19T23:32:20.910005Z",
     "iopub.status.idle": "2025-08-19T23:32:20.933327Z",
     "shell.execute_reply": "2025-08-19T23:32:20.932652Z"
    },
    "papermill": {
     "duration": 0.03225,
     "end_time": "2025-08-19T23:32:20.934854",
     "exception": false,
     "start_time": "2025-08-19T23:32:20.902604",
     "status": "completed"
    },
    "tags": []
   },
   "outputs": [],
   "source": [
    "x_train, x_test, y_train, y_test = train_test_split(x, training_df['Sentiment'], test_size = 0.2, random_state = 45)"
   ]
  },
  {
   "cell_type": "code",
   "execution_count": 25,
   "id": "877ccd76",
   "metadata": {
    "execution": {
     "iopub.execute_input": "2025-08-19T23:32:20.951071Z",
     "iopub.status.busy": "2025-08-19T23:32:20.950459Z",
     "iopub.status.idle": "2025-08-19T23:32:20.968168Z",
     "shell.execute_reply": "2025-08-19T23:32:20.967405Z"
    },
    "papermill": {
     "duration": 0.026519,
     "end_time": "2025-08-19T23:32:20.969379",
     "exception": false,
     "start_time": "2025-08-19T23:32:20.942860",
     "status": "completed"
    },
    "tags": []
   },
   "outputs": [],
   "source": [
    "x_train = np.array(x_train)\n",
    "x_test = np.array(x_test)\n",
    "x_val = np.array(x_val)\n",
    "\n",
    "train_labels = np.array(y_train)\n",
    "test_labels = np.array(y_test)\n",
    "val_labels = np.array(validation_df['Sentiment'].values)"
   ]
  },
  {
   "cell_type": "markdown",
   "id": "b3269a1d",
   "metadata": {
    "papermill": {
     "duration": 0.006734,
     "end_time": "2025-08-19T23:32:20.983143",
     "exception": false,
     "start_time": "2025-08-19T23:32:20.976409",
     "status": "completed"
    },
    "tags": []
   },
   "source": [
    "**Bulding Model**"
   ]
  },
  {
   "cell_type": "code",
   "execution_count": 26,
   "id": "ccca4396",
   "metadata": {
    "execution": {
     "iopub.execute_input": "2025-08-19T23:32:20.998450Z",
     "iopub.status.busy": "2025-08-19T23:32:20.997701Z",
     "iopub.status.idle": "2025-08-19T23:32:22.923163Z",
     "shell.execute_reply": "2025-08-19T23:32:22.922256Z"
    },
    "papermill": {
     "duration": 1.934268,
     "end_time": "2025-08-19T23:32:22.924454",
     "exception": false,
     "start_time": "2025-08-19T23:32:20.990186",
     "status": "completed"
    },
    "tags": []
   },
   "outputs": [
    {
     "name": "stderr",
     "output_type": "stream",
     "text": [
      "I0000 00:00:1755646342.853333      19 gpu_device.cc:2022] Created device /job:localhost/replica:0/task:0/device:GPU:0 with 13942 MB memory:  -> device: 0, name: Tesla T4, pci bus id: 0000:00:04.0, compute capability: 7.5\n",
      "I0000 00:00:1755646342.854129      19 gpu_device.cc:2022] Created device /job:localhost/replica:0/task:0/device:GPU:1 with 13942 MB memory:  -> device: 1, name: Tesla T4, pci bus id: 0000:00:05.0, compute capability: 7.5\n"
     ]
    }
   ],
   "source": [
    "model = Sequential([\n",
    "    Embedding(input_dim = 10000, output_dim = 100, input_length = max_sequence_length),\n",
    "    LSTM(64, return_sequences = True),\n",
    "    LSTM(32),\n",
    "    #Dropout(0.3),\n",
    "    Dense(4, activation = 'softmax')\n",
    "])\n",
    "\n",
    "model.compile(\n",
    "    optimizer = Adam(learning_rate = 0.0001),\n",
    "    loss = 'sparse_categorical_crossentropy',\n",
    "    metrics = ['accuracy']\n",
    ")\n",
    "\n",
    "check_point = ModelCheckpoint('sentiment_analysis.keras', verbose = 0, save_best_only = True)"
   ]
  },
  {
   "cell_type": "code",
   "execution_count": 27,
   "id": "92152bcc",
   "metadata": {
    "execution": {
     "iopub.execute_input": "2025-08-19T23:32:22.940775Z",
     "iopub.status.busy": "2025-08-19T23:32:22.940096Z",
     "iopub.status.idle": "2025-08-19T23:36:17.689394Z",
     "shell.execute_reply": "2025-08-19T23:36:17.688763Z"
    },
    "papermill": {
     "duration": 234.758476,
     "end_time": "2025-08-19T23:36:17.690595",
     "exception": false,
     "start_time": "2025-08-19T23:32:22.932119",
     "status": "completed"
    },
    "tags": []
   },
   "outputs": [
    {
     "name": "stdout",
     "output_type": "stream",
     "text": [
      "Epoch 1/25\n"
     ]
    },
    {
     "name": "stderr",
     "output_type": "stream",
     "text": [
      "I0000 00:00:1755646348.334393      60 cuda_dnn.cc:529] Loaded cuDNN version 90300\n"
     ]
    },
    {
     "name": "stdout",
     "output_type": "stream",
     "text": [
      "\u001b[1m896/896\u001b[0m \u001b[32m━━━━━━━━━━━━━━━━━━━━\u001b[0m\u001b[37m\u001b[0m \u001b[1m16s\u001b[0m 11ms/step - accuracy: 0.3428 - loss: 1.3387 - val_accuracy: 0.5696 - val_loss: 1.0248\n",
      "Epoch 2/25\n",
      "\u001b[1m896/896\u001b[0m \u001b[32m━━━━━━━━━━━━━━━━━━━━\u001b[0m\u001b[37m\u001b[0m \u001b[1m9s\u001b[0m 10ms/step - accuracy: 0.5841 - loss: 1.0115 - val_accuracy: 0.7007 - val_loss: 0.7842\n",
      "Epoch 3/25\n",
      "\u001b[1m896/896\u001b[0m \u001b[32m━━━━━━━━━━━━━━━━━━━━\u001b[0m\u001b[37m\u001b[0m \u001b[1m10s\u001b[0m 11ms/step - accuracy: 0.6801 - loss: 0.8218 - val_accuracy: 0.7798 - val_loss: 0.6018\n",
      "Epoch 4/25\n",
      "\u001b[1m896/896\u001b[0m \u001b[32m━━━━━━━━━━━━━━━━━━━━\u001b[0m\u001b[37m\u001b[0m \u001b[1m10s\u001b[0m 11ms/step - accuracy: 0.7472 - loss: 0.6725 - val_accuracy: 0.8198 - val_loss: 0.5234\n",
      "Epoch 5/25\n",
      "\u001b[1m896/896\u001b[0m \u001b[32m━━━━━━━━━━━━━━━━━━━━\u001b[0m\u001b[37m\u001b[0m \u001b[1m9s\u001b[0m 10ms/step - accuracy: 0.7856 - loss: 0.5780 - val_accuracy: 0.8388 - val_loss: 0.4628\n",
      "Epoch 6/25\n",
      "\u001b[1m896/896\u001b[0m \u001b[32m━━━━━━━━━━━━━━━━━━━━\u001b[0m\u001b[37m\u001b[0m \u001b[1m9s\u001b[0m 10ms/step - accuracy: 0.8059 - loss: 0.5182 - val_accuracy: 0.8689 - val_loss: 0.4028\n",
      "Epoch 7/25\n",
      "\u001b[1m896/896\u001b[0m \u001b[32m━━━━━━━━━━━━━━━━━━━━\u001b[0m\u001b[37m\u001b[0m \u001b[1m9s\u001b[0m 10ms/step - accuracy: 0.8219 - loss: 0.4842 - val_accuracy: 0.8689 - val_loss: 0.3905\n",
      "Epoch 8/25\n",
      "\u001b[1m896/896\u001b[0m \u001b[32m━━━━━━━━━━━━━━━━━━━━\u001b[0m\u001b[37m\u001b[0m \u001b[1m9s\u001b[0m 10ms/step - accuracy: 0.8386 - loss: 0.4375 - val_accuracy: 0.8829 - val_loss: 0.3699\n",
      "Epoch 9/25\n",
      "\u001b[1m896/896\u001b[0m \u001b[32m━━━━━━━━━━━━━━━━━━━━\u001b[0m\u001b[37m\u001b[0m \u001b[1m9s\u001b[0m 10ms/step - accuracy: 0.8476 - loss: 0.4073 - val_accuracy: 0.8849 - val_loss: 0.3534\n",
      "Epoch 10/25\n",
      "\u001b[1m896/896\u001b[0m \u001b[32m━━━━━━━━━━━━━━━━━━━━\u001b[0m\u001b[37m\u001b[0m \u001b[1m9s\u001b[0m 10ms/step - accuracy: 0.8582 - loss: 0.3827 - val_accuracy: 0.8939 - val_loss: 0.3374\n",
      "Epoch 11/25\n",
      "\u001b[1m896/896\u001b[0m \u001b[32m━━━━━━━━━━━━━━━━━━━━\u001b[0m\u001b[37m\u001b[0m \u001b[1m9s\u001b[0m 10ms/step - accuracy: 0.8666 - loss: 0.3594 - val_accuracy: 0.9019 - val_loss: 0.3303\n",
      "Epoch 12/25\n",
      "\u001b[1m896/896\u001b[0m \u001b[32m━━━━━━━━━━━━━━━━━━━━\u001b[0m\u001b[37m\u001b[0m \u001b[1m9s\u001b[0m 10ms/step - accuracy: 0.8718 - loss: 0.3434 - val_accuracy: 0.9119 - val_loss: 0.3152\n",
      "Epoch 13/25\n",
      "\u001b[1m896/896\u001b[0m \u001b[32m━━━━━━━━━━━━━━━━━━━━\u001b[0m\u001b[37m\u001b[0m \u001b[1m9s\u001b[0m 10ms/step - accuracy: 0.8774 - loss: 0.3286 - val_accuracy: 0.9099 - val_loss: 0.3244\n",
      "Epoch 14/25\n",
      "\u001b[1m896/896\u001b[0m \u001b[32m━━━━━━━━━━━━━━━━━━━━\u001b[0m\u001b[37m\u001b[0m \u001b[1m9s\u001b[0m 10ms/step - accuracy: 0.8824 - loss: 0.3130 - val_accuracy: 0.9059 - val_loss: 0.3075\n",
      "Epoch 15/25\n",
      "\u001b[1m896/896\u001b[0m \u001b[32m━━━━━━━━━━━━━━━━━━━━\u001b[0m\u001b[37m\u001b[0m \u001b[1m9s\u001b[0m 10ms/step - accuracy: 0.8864 - loss: 0.2997 - val_accuracy: 0.9159 - val_loss: 0.3172\n",
      "Epoch 16/25\n",
      "\u001b[1m896/896\u001b[0m \u001b[32m━━━━━━━━━━━━━━━━━━━━\u001b[0m\u001b[37m\u001b[0m \u001b[1m9s\u001b[0m 10ms/step - accuracy: 0.8884 - loss: 0.2926 - val_accuracy: 0.9139 - val_loss: 0.3163\n",
      "Epoch 17/25\n",
      "\u001b[1m896/896\u001b[0m \u001b[32m━━━━━━━━━━━━━━━━━━━━\u001b[0m\u001b[37m\u001b[0m \u001b[1m9s\u001b[0m 10ms/step - accuracy: 0.8938 - loss: 0.2803 - val_accuracy: 0.9229 - val_loss: 0.3069\n",
      "Epoch 18/25\n",
      "\u001b[1m896/896\u001b[0m \u001b[32m━━━━━━━━━━━━━━━━━━━━\u001b[0m\u001b[37m\u001b[0m \u001b[1m9s\u001b[0m 10ms/step - accuracy: 0.8972 - loss: 0.2722 - val_accuracy: 0.9209 - val_loss: 0.3244\n",
      "Epoch 19/25\n",
      "\u001b[1m896/896\u001b[0m \u001b[32m━━━━━━━━━━━━━━━━━━━━\u001b[0m\u001b[37m\u001b[0m \u001b[1m9s\u001b[0m 10ms/step - accuracy: 0.9009 - loss: 0.2586 - val_accuracy: 0.9179 - val_loss: 0.3273\n",
      "Epoch 20/25\n",
      "\u001b[1m896/896\u001b[0m \u001b[32m━━━━━━━━━━━━━━━━━━━━\u001b[0m\u001b[37m\u001b[0m \u001b[1m9s\u001b[0m 10ms/step - accuracy: 0.9038 - loss: 0.2517 - val_accuracy: 0.9229 - val_loss: 0.3216\n",
      "Epoch 21/25\n",
      "\u001b[1m896/896\u001b[0m \u001b[32m━━━━━━━━━━━━━━━━━━━━\u001b[0m\u001b[37m\u001b[0m \u001b[1m9s\u001b[0m 10ms/step - accuracy: 0.9057 - loss: 0.2444 - val_accuracy: 0.9179 - val_loss: 0.3443\n",
      "Epoch 22/25\n",
      "\u001b[1m896/896\u001b[0m \u001b[32m━━━━━━━━━━━━━━━━━━━━\u001b[0m\u001b[37m\u001b[0m \u001b[1m9s\u001b[0m 10ms/step - accuracy: 0.9097 - loss: 0.2334 - val_accuracy: 0.9179 - val_loss: 0.3377\n",
      "Epoch 23/25\n",
      "\u001b[1m896/896\u001b[0m \u001b[32m━━━━━━━━━━━━━━━━━━━━\u001b[0m\u001b[37m\u001b[0m \u001b[1m9s\u001b[0m 10ms/step - accuracy: 0.9114 - loss: 0.2307 - val_accuracy: 0.9139 - val_loss: 0.3619\n",
      "Epoch 24/25\n",
      "\u001b[1m896/896\u001b[0m \u001b[32m━━━━━━━━━━━━━━━━━━━━\u001b[0m\u001b[37m\u001b[0m \u001b[1m9s\u001b[0m 10ms/step - accuracy: 0.9123 - loss: 0.2277 - val_accuracy: 0.9169 - val_loss: 0.3601\n",
      "Epoch 25/25\n",
      "\u001b[1m896/896\u001b[0m \u001b[32m━━━━━━━━━━━━━━━━━━━━\u001b[0m\u001b[37m\u001b[0m \u001b[1m9s\u001b[0m 10ms/step - accuracy: 0.9149 - loss: 0.2179 - val_accuracy: 0.9219 - val_loss: 0.3495\n"
     ]
    }
   ],
   "source": [
    "history = model.fit(\n",
    "    x_train, train_labels,\n",
    "    validation_data = (x_val, val_labels),\n",
    "    epochs = 25,\n",
    "    batch_size = 64,\n",
    "    verbose = 1,\n",
    "    callbacks = [check_point]\n",
    ")"
   ]
  },
  {
   "cell_type": "code",
   "execution_count": 28,
   "id": "38c30178",
   "metadata": {
    "execution": {
     "iopub.execute_input": "2025-08-19T23:36:18.047594Z",
     "iopub.status.busy": "2025-08-19T23:36:18.047286Z",
     "iopub.status.idle": "2025-08-19T23:36:20.409833Z",
     "shell.execute_reply": "2025-08-19T23:36:20.409160Z"
    },
    "papermill": {
     "duration": 2.537895,
     "end_time": "2025-08-19T23:36:20.411036",
     "exception": false,
     "start_time": "2025-08-19T23:36:17.873141",
     "status": "completed"
    },
    "tags": []
   },
   "outputs": [
    {
     "name": "stdout",
     "output_type": "stream",
     "text": [
      "\u001b[1m448/448\u001b[0m \u001b[32m━━━━━━━━━━━━━━━━━━━━\u001b[0m\u001b[37m\u001b[0m \u001b[1m2s\u001b[0m 5ms/step - accuracy: 0.8191 - loss: 0.6411\n",
      "Test Accuracy: 82.05%\n"
     ]
    }
   ],
   "source": [
    "test_loss, test_accuracy = model.evaluate(x_test,test_labels)\n",
    "print(f\"Test Accuracy: {test_accuracy * 100:.2f}%\")"
   ]
  },
  {
   "cell_type": "code",
   "execution_count": 29,
   "id": "dadced54",
   "metadata": {
    "execution": {
     "iopub.execute_input": "2025-08-19T23:36:20.770427Z",
     "iopub.status.busy": "2025-08-19T23:36:20.769513Z",
     "iopub.status.idle": "2025-08-19T23:36:21.364853Z",
     "shell.execute_reply": "2025-08-19T23:36:21.364094Z"
    },
    "papermill": {
     "duration": 0.778472,
     "end_time": "2025-08-19T23:36:21.366397",
     "exception": false,
     "start_time": "2025-08-19T23:36:20.587925",
     "status": "completed"
    },
    "tags": []
   },
   "outputs": [
    {
     "data": {
      "image/png": "[encoded data removed]",
      "text/plain": [
       "<Figure size 2000x800 with 2 Axes>"
      ]
     },
     "metadata": {},
     "output_type": "display_data"
    }
   ],
   "source": [
    "tr_acc = history.history['accuracy']\n",
    "tr_loss = history.history['loss']\n",
    "val_acc = history.history['val_accuracy']\n",
    "val_loss = history.history['val_loss']\n",
    "index_loss = np.argmin(val_loss)\n",
    "val_lowest = val_loss[index_loss]\n",
    "index_acc = np.argmax(val_acc)\n",
    "acc_highest = val_acc[index_acc]\n",
    "Epochs = [i+1 for i in range(len(tr_acc))]\n",
    "loss_label = f'best epoch= {str(index_loss + 1)}'\n",
    "acc_label = f'best epoch= {str(index_acc + 1)}'\n",
    "\n",
    "# Plot training history\n",
    "plt.figure(figsize= (20, 8))\n",
    "plt.style.use('seaborn-v0_8-darkgrid')\n",
    "\n",
    "plt.subplot(1, 2, 1)\n",
    "plt.plot(Epochs, tr_loss, 'r', label= 'Training loss')\n",
    "plt.plot(Epochs, val_loss, 'g', label= 'Validation loss')\n",
    "plt.scatter(index_loss + 1, val_lowest, s= 150, c= 'blue', label= loss_label)\n",
    "plt.title('Training and Validation Loss')\n",
    "plt.xlabel('Epochs')\n",
    "plt.ylabel('Loss')\n",
    "plt.legend()\n",
    "\n",
    "plt.subplot(1, 2, 2)\n",
    "plt.plot(Epochs, tr_acc, 'r', label= 'Training Accuracy')\n",
    "plt.plot(Epochs, val_acc, 'g', label= 'Validation Accuracy')\n",
    "plt.scatter(index_acc + 1 , acc_highest, s= 150, c= 'blue', label= acc_label)\n",
    "plt.title('Training and Validation Accuracy')\n",
    "plt.xlabel('Epochs')\n",
    "plt.ylabel('Accuracy')\n",
    "plt.legend()\n",
    "\n",
    "plt.tight_layout\n",
    "plt.show()"
   ]
  },
  {
   "cell_type": "code",
   "execution_count": 30,
   "id": "4f048ff0",
   "metadata": {
    "execution": {
     "iopub.execute_input": "2025-08-19T23:36:21.787206Z",
     "iopub.status.busy": "2025-08-19T23:36:21.786895Z",
     "iopub.status.idle": "2025-08-19T23:36:21.836648Z",
     "shell.execute_reply": "2025-08-19T23:36:21.836034Z"
    },
    "papermill": {
     "duration": 0.22993,
     "end_time": "2025-08-19T23:36:21.837973",
     "exception": false,
     "start_time": "2025-08-19T23:36:21.608043",
     "status": "completed"
    },
    "tags": []
   },
   "outputs": [],
   "source": [
    "model.save('tesentmodel_v2.h5')"
   ]
  },
  {
   "cell_type": "code",
   "execution_count": 31,
   "id": "0ae33a24",
   "metadata": {
    "execution": {
     "iopub.execute_input": "2025-08-19T23:36:22.206703Z",
     "iopub.status.busy": "2025-08-19T23:36:22.205914Z",
     "iopub.status.idle": "2025-08-19T23:36:24.864476Z",
     "shell.execute_reply": "2025-08-19T23:36:24.863541Z"
    },
    "papermill": {
     "duration": 2.840196,
     "end_time": "2025-08-19T23:36:24.865997",
     "exception": false,
     "start_time": "2025-08-19T23:36:22.025801",
     "status": "completed"
    },
    "tags": []
   },
   "outputs": [
    {
     "name": "stdout",
     "output_type": "stream",
     "text": [
      "\u001b[1m448/448\u001b[0m \u001b[32m━━━━━━━━━━━━━━━━━━━━\u001b[0m\u001b[37m\u001b[0m \u001b[1m2s\u001b[0m 5ms/step\n"
     ]
    }
   ],
   "source": [
    "y_pred = model.predict(x_test)\n",
    "y_pred = np.argmax(y_pred, axis = 1)"
   ]
  },
  {
   "cell_type": "code",
   "execution_count": 32,
   "id": "ad97cabe",
   "metadata": {
    "execution": {
     "iopub.execute_input": "2025-08-19T23:36:25.225041Z",
     "iopub.status.busy": "2025-08-19T23:36:25.224761Z",
     "iopub.status.idle": "2025-08-19T23:36:25.448581Z",
     "shell.execute_reply": "2025-08-19T23:36:25.447884Z"
    },
    "papermill": {
     "duration": 0.404175,
     "end_time": "2025-08-19T23:36:25.450141",
     "exception": false,
     "start_time": "2025-08-19T23:36:25.045966",
     "status": "completed"
    },
    "tags": []
   },
   "outputs": [
    {
     "data": {
      "image/png": "[encoded data removed]",
      "text/plain": [
       "<Figure size 1000x600 with 2 Axes>"
      ]
     },
     "metadata": {},
     "output_type": "display_data"
    }
   ],
   "source": [
    "con_matrix = confusion_matrix(y_test, y_pred)\n",
    "plt.figure(figsize = (10,6))\n",
    "sns.heatmap(con_matrix, annot=True, fmt='d', cmap=\"YlGnBu\", xticklabels = ['Positive', 'Negative', 'Neutral','irrelvant'], yticklabels=['Positive', 'Negative', 'Neutral','irrelvant'], linewidths=0.5)\n",
    "plt.title(\"Confusion Matrix\", fontsize=14)\n",
    "plt.xlabel(\"Predicted Label\", fontsize=12)\n",
    "plt.ylabel(\"True Label\", fontsize=12)\n",
    "plt.xticks(rotation=45)\n",
    "plt.yticks(rotation=0)\n",
    "plt.show()"
   ]
  },
  {
   "cell_type": "code",
   "execution_count": 33,
   "id": "abbe39c5",
   "metadata": {
    "execution": {
     "iopub.execute_input": "2025-08-19T23:36:25.881054Z",
     "iopub.status.busy": "2025-08-19T23:36:25.880802Z",
     "iopub.status.idle": "2025-08-19T23:36:25.897123Z",
     "shell.execute_reply": "2025-08-19T23:36:25.896386Z"
    },
    "papermill": {
     "duration": 0.215141,
     "end_time": "2025-08-19T23:36:25.898229",
     "exception": false,
     "start_time": "2025-08-19T23:36:25.683088",
     "status": "completed"
    },
    "tags": []
   },
   "outputs": [
    {
     "name": "stdout",
     "output_type": "stream",
     "text": [
      "Classfication Report\n",
      "              precision    recall  f1-score   support\n",
      "\n",
      "           0       0.81      0.79      0.80      2507\n",
      "           1       0.86      0.84      0.85      4333\n",
      "           2       0.84      0.80      0.82      3634\n",
      "           3       0.78      0.84      0.81      3857\n",
      "\n",
      "    accuracy                           0.82     14331\n",
      "   macro avg       0.82      0.82      0.82     14331\n",
      "weighted avg       0.82      0.82      0.82     14331\n",
      "\n"
     ]
    }
   ],
   "source": [
    "report = classification_report(y_test, y_pred)\n",
    "print('Classfication Report')\n",
    "print(report)"
   ]
  },
  {
   "cell_type": "code",
   "execution_count": 34,
   "id": "16fb148a",
   "metadata": {
    "execution": {
     "iopub.execute_input": "2025-08-19T23:36:26.269111Z",
     "iopub.status.busy": "2025-08-19T23:36:26.268394Z",
     "iopub.status.idle": "2025-08-19T23:36:26.273132Z",
     "shell.execute_reply": "2025-08-19T23:36:26.272300Z"
    },
    "papermill": {
     "duration": 0.192608,
     "end_time": "2025-08-19T23:36:26.274296",
     "exception": false,
     "start_time": "2025-08-19T23:36:26.081688",
     "status": "completed"
    },
    "tags": []
   },
   "outputs": [],
   "source": [
    "def preprocess_txt(texts, tokenizer):\n",
    "    \"\"\"\n",
    "    Preprocess new incoming text data.\n",
    "\n",
    "    Args:\n",
    "        texts (list of str): List of raw text inputs.\n",
    "        tokenizer (Tokenizer): Pre-trained tokenizer.\n",
    "        max_len (int): Maximum sequence length.\n",
    "\n",
    "    Returns:\n",
    "        np.array: Padded sequences ready for prediction.\n",
    "    \"\"\"\n",
    "    # Convert text to sequences\n",
    "\n",
    "    text_seq = tokenizer.texts_to_sequences([texts])\n",
    "    \n",
    "    # Apply padding\n",
    "    text_padded = pad_sequences(text_seq, maxlen = 100, padding=\"post\")\n",
    "    \n",
    "    return text_padded"
   ]
  },
  {
   "cell_type": "code",
   "execution_count": 35,
   "id": "dda89064",
   "metadata": {
    "execution": {
     "iopub.execute_input": "2025-08-19T23:36:26.692071Z",
     "iopub.status.busy": "2025-08-19T23:36:26.691515Z",
     "iopub.status.idle": "2025-08-19T23:36:26.696175Z",
     "shell.execute_reply": "2025-08-19T23:36:26.695525Z"
    },
    "papermill": {
     "duration": 0.236857,
     "end_time": "2025-08-19T23:36:26.697370",
     "exception": false,
     "start_time": "2025-08-19T23:36:26.460513",
     "status": "completed"
    },
    "tags": []
   },
   "outputs": [],
   "source": [
    "def predict_data(text, model, tokenizer, max_len=100):\n",
    "    text_cleaned = processed_text(text)\n",
    "    \n",
    "    # Convert to sequence\n",
    "    seq = tokenizer.texts_to_sequences([text_cleaned])\n",
    "    \n",
    "    # Pad\n",
    "    seq_padded = pad_sequences(seq, maxlen=max_len, padding=\"post\")\n",
    "    \n",
    "    # Predict\n",
    "    y_pred = model.predict(seq_padded)\n",
    "    pred_idx = np.argmax(y_pred, axis=1)[0]\n",
    "    \n",
    "    classes = ['Positive', 'Negative', 'Neutral', 'Irrelevant']\n",
    "    return classes[pred_idx]"
   ]
  },
  {
   "cell_type": "code",
   "execution_count": 36,
   "id": "2423bdaa",
   "metadata": {
    "execution": {
     "iopub.execute_input": "2025-08-19T23:36:27.064922Z",
     "iopub.status.busy": "2025-08-19T23:36:27.064605Z",
     "iopub.status.idle": "2025-08-19T23:36:28.015176Z",
     "shell.execute_reply": "2025-08-19T23:36:28.014506Z"
    },
    "papermill": {
     "duration": 1.134846,
     "end_time": "2025-08-19T23:36:28.016622",
     "exception": false,
     "start_time": "2025-08-19T23:36:26.881776",
     "status": "completed"
    },
    "tags": []
   },
   "outputs": [],
   "source": [
    "with open('/kaggle/working/tokenizer_she.pkl', \"rb\") as f:\n",
    "    tokenizer = pickle.load(f)\n",
    "\n",
    "\n",
    "test_model = tf.keras.models.load_model('/kaggle/working/tesentmodel_v2.h5')"
   ]
  },
  {
   "cell_type": "code",
   "execution_count": 37,
   "id": "36447c45",
   "metadata": {
    "execution": {
     "iopub.execute_input": "2025-08-19T23:36:28.392589Z",
     "iopub.status.busy": "2025-08-19T23:36:28.391957Z",
     "iopub.status.idle": "2025-08-19T23:36:28.770105Z",
     "shell.execute_reply": "2025-08-19T23:36:28.769279Z"
    },
    "papermill": {
     "duration": 0.567947,
     "end_time": "2025-08-19T23:36:28.771248",
     "exception": false,
     "start_time": "2025-08-19T23:36:28.203301",
     "status": "completed"
    },
    "tags": []
   },
   "outputs": [
    {
     "name": "stdout",
     "output_type": "stream",
     "text": [
      "Processed: i absolutely hate this product it hardly works and makes me so angry\n",
      "Sequences: [[], [], [], [329], [], [], [439], [111], [], [218], [439], [], [], [407], [], [], [218], [], [], [407], [], [], [], [340], [217], [], [], [111], [328], [], [], [], [], [], [407], [], [217], [], [439], [], [], [284], [], [217], [16], [], [], [], [214], [], [], [], [], [16], [218], [], [], [], [218], [], [], [], [], [], [214], [244], [217], []]\n",
      "\u001b[1m1/1\u001b[0m \u001b[32m━━━━━━━━━━━━━━━━━━━━\u001b[0m\u001b[37m\u001b[0m \u001b[1m0s\u001b[0m 324ms/step\n",
      "Predicted Class :Neutral\n"
     ]
    }
   ],
   "source": [
    "txt = \"I absolutely hate this product! It hardly works and makes me so angry.\"\n",
    "\n",
    "print(\"Processed:\", processed_text(txt))\n",
    "print(\"Sequences:\", tokenizer.texts_to_sequences(processed_text(txt)))\n",
    "\n",
    "pred_class = predict_data(txt, test_model, tokenizer)\n",
    "\n",
    "print(f'Predicted Class :{pred_class}')"
   ]
  },
  {
   "cell_type": "code",
   "execution_count": 38,
   "id": "9dbc1821",
   "metadata": {
    "execution": {
     "iopub.execute_input": "2025-08-19T23:36:29.140213Z",
     "iopub.status.busy": "2025-08-19T23:36:29.139922Z",
     "iopub.status.idle": "2025-08-19T23:36:29.243891Z",
     "shell.execute_reply": "2025-08-19T23:36:29.242842Z"
    },
    "papermill": {
     "duration": 0.292759,
     "end_time": "2025-08-19T23:36:29.245229",
     "exception": false,
     "start_time": "2025-08-19T23:36:28.952470",
     "status": "completed"
    },
    "tags": []
   },
   "outputs": [
    {
     "name": "stdout",
     "output_type": "stream",
     "text": [
      "[0 0 0 0 0 0 0 0 0 0 0 0 0 0 0 0 0 0 0 0]\n",
      "\u001b[1m1/1\u001b[0m \u001b[32m━━━━━━━━━━━━━━━━━━━━\u001b[0m\u001b[37m\u001b[0m \u001b[1m0s\u001b[0m 49ms/step\n",
      "3\n"
     ]
    }
   ],
   "source": [
    "txt = \"I absolutely love this product! It works perfectly and makes me so happy.\"\n",
    "text_padded = preprocess_txt([txt], tokenizer)\n",
    "print(text_padded[0][:20])  # first 20 tokens after padding\n",
    "pred = test_model.predict(text_padded)\n",
    "print(np.argmax(pred))"
   ]
  },
  {
   "cell_type": "code",
   "execution_count": null,
   "id": "e22674f5",
   "metadata": {
    "papermill": {
     "duration": 0.231629,
     "end_time": "2025-08-19T23:36:29.664720",
     "exception": false,
     "start_time": "2025-08-19T23:36:29.433091",
     "status": "completed"
    },
    "tags": []
   },
   "outputs": [],
   "source": []
  }
 ],
 "metadata": {
  "kaggle": {
   "accelerator": "nvidiaTeslaT4",
   "dataSources": [
    {
     "datasetId": 1520310,
     "sourceId": 2510329,
     "sourceType": "datasetVersion"
    }
   ],
   "dockerImageVersionId": 31089,
   "isGpuEnabled": true,
   "isInternetEnabled": true,
   "language": "python",
   "sourceType": "notebook"
  },
  "kernelspec": {
   "display_name": "Python 3",
   "language": "python",
   "name": "python3"
  },
  "language_info": {
   "codemirror_mode": {
    "name": "ipython",
    "version": 3
   },
   "file_extension": ".py",
   "mimetype": "text/x-python",
   "name": "python",
   "nbconvert_exporter": "python",
   "pygments_lexer": "ipython3",
   "version": "3.11.13"
  },
  "papermill": {
   "default_parameters": {},
   "duration": 302.502518,
   "end_time": "2025-08-19T23:36:32.834447",
   "environment_variables": {},
   "exception": null,
   "input_path": "__notebook__.ipynb",
   "output_path": "__notebook__.ipynb",
   "parameters": {},
   "start_time": "2025-08-19T23:31:30.331929",
   "version": "2.6.0"
  }
 },
 "nbformat": 4,
 "nbformat_minor": 5
}
